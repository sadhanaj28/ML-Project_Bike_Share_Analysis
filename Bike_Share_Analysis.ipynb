{
 "cells": [
  {
   "cell_type": "markdown",
   "metadata": {},
   "source": [
    "# 2016 US Bike Share Activity Snapshot\n",
    "\n",
    "## Table of Contents\n",
    "- [Introduction](#intro)\n",
    "- [Posing Questions](#pose_questions)\n",
    "- [Data Collection and Wrangling](#wrangling)\n",
    "  - [Condensing the Trip Data](#condensing)\n",
    "- [Exploratory Data Analysis](#eda)\n",
    "  - [Statistics](#statistics)\n",
    "  - [Visualizations](#visualizations)\n",
    "- [Performing Your Own Analysis](#eda_continued)\n",
    "- [Conclusions](#conclusions)\n",
    "\n",
    "<a id='intro'></a>\n",
    "## Introduction\n",
    "\n",
    "> **Tip**: Quoted sections like this will provide helpful instructions on how to navigate and use a Jupyter notebook.\n",
    "\n",
    "Over the past decade, bicycle-sharing systems have been growing in number and popularity in cities across the world. Bicycle-sharing systems allow users to rent bicycles for short trips, typically 30 minutes or less. Thanks to the rise in information technologies, it is easy for a user of the system to access a dock within the system to unlock or return bicycles. These technologies also provide a wealth of data that can be used to explore how these bike-sharing systems are used.\n",
    "\n",
    "In this project, you will perform an exploratory analysis on data provided by [Motivate](https://www.motivateco.com/), a bike-share system provider for many major cities in the United States. You will compare the system usage between three large cities: New York City, Chicago, and Washington, DC. You will also see if there are any differences within each system for those users that are registered, regular users and those users that are short-term, casual users."
   ]
  },
  {
   "cell_type": "markdown",
   "metadata": {},
   "source": [
    "# <a id='pose_questions'></a>\n",
    "## Posing Questions\n",
    "\n",
    "Before looking at the bike sharing data, you should start by asking questions you might want to understand about the bike share data. Consider, for example, if you were working for Motivate. What kinds of information would you want to know about in order to make smarter business decisions? If you were a user of the bike-share service, what factors might influence how you would want to use the service?\n",
    "\n",
    "**Question 1**: Write at least two questions related to bike sharing that you think could be answered by data.\n",
    "\n",
    "**Answer**: There are records for three seperate city. Based on that I can answer below qyestions.\n",
    "            1) Which city has longest ride among all city.\n",
    "            2) Which type of user use most ride.\n",
    "            3) Which type of rider has longest ride.\n",
    "\n",
    "> **Tip**: If you double click on this cell, you will see the text change so that all of the formatting is removed. This allows you to edit this block of text. This block of text is written using [Markdown](http://daringfireball.net/projects/markdown/syntax), which is a way to format text using headers, links, italics, and many other options using a plain-text syntax. You will also use Markdown later in the Nanodegree program. Use **Shift** + **Enter** or **Shift** + **Return** to run the cell and show its rendered form."
   ]
  },
  {
   "cell_type": "markdown",
   "metadata": {},
   "source": [
    "<a id='wrangling'></a>\n",
    "## Data Collection and Wrangling\n",
    "\n",
    "Now it's time to collect and explore our data. In this project, we will focus on the record of individual trips taken in 2016 from our selected cities: New York City, Chicago, and Washington, DC. Each of these cities has a page where we can freely download the trip data.:\n",
    "\n",
    "- New York City (Citi Bike): [Link](https://www.citibikenyc.com/system-data)\n",
    "- Chicago (Divvy): [Link](https://www.divvybikes.com/system-data)\n",
    "- Washington, DC (Capital Bikeshare): [Link](https://www.capitalbikeshare.com/system-data)\n",
    "\n",
    "If you visit these pages, you will notice that each city has a different way of delivering its data. Chicago updates with new data twice a year, Washington DC is quarterly, and New York City is monthly. **However, you do not need to download the data yourself.** The data has already been collected for you in the `/data/` folder of the project files. While the original data for 2016 is spread among multiple files for each city, the files in the `/data/` folder collect all of the trip data for the year into one file per city. Some data wrangling of inconsistencies in timestamp format within each city has already been performed for you. In addition, a random 2% sample of the original data is taken to make the exploration more manageable. \n",
    "\n",
    "**Question 2**: However, there is still a lot of data for us to investigate, so it's a good idea to start off by looking at one entry from each of the cities we're going to analyze. Run the first code cell below to load some packages and functions that you'll be using in your analysis. Then, complete the second code cell to print out the first trip recorded from each of the cities (the second line of each data file).\n",
    "\n",
    "> **Tip**: You can run a code cell like you formatted Markdown cells above by clicking on the cell and using the keyboard shortcut **Shift** + **Enter** or **Shift** + **Return**. Alternatively, a code cell can be executed using the **Play** button in the toolbar after selecting it. While the cell is running, you will see an asterisk in the message to the left of the cell, i.e. `In [*]:`. The asterisk will change into a number to show that execution has completed, e.g. `In [1]`. If there is output, it will show up as `Out [1]:`, with an appropriate number to match the \"In\" number."
   ]
  },
  {
   "cell_type": "code",
   "execution_count": 1,
   "metadata": {},
   "outputs": [],
   "source": [
    "## import all necessary packages and functions.\n",
    "import csv # read and write csv files\n",
    "from datetime import datetime # operations to parse dates\n",
    "from pprint import pprint # use to print data structures like dictionaries in\n",
    "                          # a nicer way than the base print function."
   ]
  },
  {
   "cell_type": "code",
   "execution_count": 2,
   "metadata": {},
   "outputs": [
    {
     "name": "stdout",
     "output_type": "stream",
     "text": [
      "\n",
      "City: NYC\n"
     ]
    },
    {
     "ename": "FileNotFoundError",
     "evalue": "[Errno 2] No such file or directory: './data/NYC-CitiBike-2016.csv'",
     "output_type": "error",
     "traceback": [
      "\u001b[1;31m---------------------------------------------------------------------------\u001b[0m",
      "\u001b[1;31mFileNotFoundError\u001b[0m                         Traceback (most recent call last)",
      "\u001b[1;32m<ipython-input-2-224fc813e760>\u001b[0m in \u001b[0;36m<module>\u001b[1;34m()\u001b[0m\n\u001b[0;32m     33\u001b[0m \u001b[1;33m\u001b[0m\u001b[0m\n\u001b[0;32m     34\u001b[0m \u001b[1;32mfor\u001b[0m \u001b[0mdata_file\u001b[0m \u001b[1;32min\u001b[0m \u001b[0mdata_files\u001b[0m\u001b[1;33m:\u001b[0m\u001b[1;33m\u001b[0m\u001b[0m\n\u001b[1;32m---> 35\u001b[1;33m     \u001b[0mcity\u001b[0m\u001b[1;33m,\u001b[0m \u001b[0mfirst_trip\u001b[0m \u001b[1;33m=\u001b[0m \u001b[0mprint_first_point\u001b[0m\u001b[1;33m(\u001b[0m\u001b[0mdata_file\u001b[0m\u001b[1;33m)\u001b[0m\u001b[1;33m\u001b[0m\u001b[0m\n\u001b[0m\u001b[0;32m     36\u001b[0m     \u001b[0mexample_trips\u001b[0m\u001b[1;33m[\u001b[0m\u001b[0mcity\u001b[0m\u001b[1;33m]\u001b[0m \u001b[1;33m=\u001b[0m \u001b[0mfirst_trip\u001b[0m\u001b[1;33m\u001b[0m\u001b[0m\n",
      "\u001b[1;32m<ipython-input-2-224fc813e760>\u001b[0m in \u001b[0;36mprint_first_point\u001b[1;34m(filename)\u001b[0m\n\u001b[0;32m      8\u001b[0m     \u001b[0mprint\u001b[0m\u001b[1;33m(\u001b[0m\u001b[1;34m'\\nCity: {}'\u001b[0m\u001b[1;33m.\u001b[0m\u001b[0mformat\u001b[0m\u001b[1;33m(\u001b[0m\u001b[0mcity\u001b[0m\u001b[1;33m)\u001b[0m\u001b[1;33m)\u001b[0m\u001b[1;33m\u001b[0m\u001b[0m\n\u001b[0;32m      9\u001b[0m \u001b[1;33m\u001b[0m\u001b[0m\n\u001b[1;32m---> 10\u001b[1;33m     \u001b[1;32mwith\u001b[0m \u001b[0mopen\u001b[0m\u001b[1;33m(\u001b[0m\u001b[0mfilename\u001b[0m\u001b[1;33m,\u001b[0m \u001b[1;34m'r'\u001b[0m\u001b[1;33m)\u001b[0m \u001b[1;32mas\u001b[0m \u001b[0mf_in\u001b[0m\u001b[1;33m:\u001b[0m\u001b[1;33m\u001b[0m\u001b[0m\n\u001b[0m\u001b[0;32m     11\u001b[0m         \u001b[1;31m## TODO: Use the csv library to set up a DictReader object. ##\u001b[0m\u001b[1;33m\u001b[0m\u001b[1;33m\u001b[0m\u001b[0m\n\u001b[0;32m     12\u001b[0m         \u001b[1;31m## see https://docs.python.org/3/library/csv.html           ##\u001b[0m\u001b[1;33m\u001b[0m\u001b[1;33m\u001b[0m\u001b[0m\n",
      "\u001b[1;31mFileNotFoundError\u001b[0m: [Errno 2] No such file or directory: './data/NYC-CitiBike-2016.csv'"
     ]
    }
   ],
   "source": [
    "def print_first_point(filename):\n",
    "    \"\"\"\n",
    "    This function prints and returns the first data point (second row) from\n",
    "    a csv file that includes a header row.\n",
    "    \"\"\"\n",
    "    # print city name for reference\n",
    "    city = filename.split('-')[0].split('/')[-1]\n",
    "    print('\\nCity: {}'.format(city))\n",
    "    \n",
    "    with open(filename, 'r') as f_in:\n",
    "        ## TODO: Use the csv library to set up a DictReader object. ##\n",
    "        ## see https://docs.python.org/3/library/csv.html           ##\n",
    "        trip_reader = csv.DictReader(f_in)\n",
    "        \n",
    "        ## TODO: Use a function on the DictReader object to read the     ##\n",
    "        ## first trip from the data file and store it in a variable.     ##\n",
    "        ## see https://docs.python.org/3/library/csv.html#reader-objects ##\n",
    "        first_trip = next(trip_reader)\n",
    "        \n",
    "        ## TODO: Use the pprint library to print the first trip. ##\n",
    "        ## see https://docs.python.org/3/library/pprint.html     ##\n",
    "        pprint(first_trip)\n",
    "    # output city name and first trip for later testing\n",
    "    return (city, first_trip)\n",
    "\n",
    "# list of files for each city\n",
    "data_files = ['./data/NYC-CitiBike-2016.csv',\n",
    "              './data/Chicago-Divvy-2016.csv',\n",
    "              './data/Washington-CapitalBikeshare-2016.csv',]\n",
    "\n",
    "# print the first trip from each file, store in dictionary\n",
    "example_trips = {}\n",
    "\n",
    "for data_file in data_files:\n",
    "    city, first_trip = print_first_point(data_file)\n",
    "    example_trips[city] = first_trip"
   ]
  },
  {
   "cell_type": "markdown",
   "metadata": {},
   "source": [
    "If everything has been filled out correctly, you should see below the printout of each city name (which has been parsed from the data file name) that the first trip has been parsed in the form of a dictionary. When you set up a `DictReader` object, the first row of the data file is normally interpreted as column names. Every other row in the data file will use those column names as keys, as a dictionary is generated for each row.\n",
    "\n",
    "This will be useful since we can refer to quantities by an easily-understandable label instead of just a numeric index. For example, if we have a trip stored in the variable `row`, then we would rather get the trip duration from `row['duration']` instead of `row[0]`.\n",
    "\n",
    "<a id='condensing'></a>\n",
    "### Condensing the Trip Data\n",
    "\n",
    "It should also be observable from the above printout that each city provides different information. Even where the information is the same, the column names and formats are sometimes different. To make things as simple as possible when we get to the actual exploration, we should trim and clean the data. Cleaning the data makes sure that the data formats across the cities are consistent, while trimming focuses only on the parts of the data we are most interested in to make the exploration easier to work with.\n",
    "\n",
    "You will generate new data files with five values of interest for each trip: trip duration, starting month, starting hour, day of the week, and user type. Each of these may require additional wrangling depending on the city:\n",
    "\n",
    "- **Duration**: This has been given to us in seconds (New York, Chicago) or milliseconds (Washington). A more natural unit of analysis will be if all the trip durations are given in terms of minutes.\n",
    "- **Month**, **Hour**, **Day of Week**: Ridership volume is likely to change based on the season, time of day, and whether it is a weekday or weekend. Use the start time of the trip to obtain these values. The New York City data includes the seconds in their timestamps, while Washington and Chicago do not. The [`datetime`](https://docs.python.org/3/library/datetime.html) package will be very useful here to make the needed conversions.\n",
    "- **User Type**: It is possible that users who are subscribed to a bike-share system will have different patterns of use compared to users who only have temporary passes. Washington divides its users into two types: 'Registered' for users with annual, monthly, and other longer-term subscriptions, and 'Casual', for users with 24-hour, 3-day, and other short-term passes. The New York and Chicago data uses 'Subscriber' and 'Customer' for these groups, respectively. For consistency, you will convert the Washington labels to match the other two.\n",
    "\n",
    "\n",
    "**Question 3a**: Complete the helper functions in the code cells below to address each of the cleaning tasks described above."
   ]
  },
  {
   "cell_type": "code",
   "execution_count": 3,
   "metadata": {},
   "outputs": [],
   "source": [
    "def duration_in_mins(datum, city):\n",
    "    \"\"\"\n",
    "    Takes as input a dictionary containing info about a single trip (datum) and\n",
    "    its origin city (city) and returns the trip duration in units of minutes.\n",
    "    \n",
    "    Remember that Washington is in terms of milliseconds while Chicago and NYC\n",
    "    are in terms of seconds. \n",
    "    \n",
    "    HINT: The csv module reads in all of the data as strings, including numeric\n",
    "    values. You will need a function to convert the strings into an appropriate\n",
    "    numeric type when making your transformations.\n",
    "    see https://docs.python.org/3/library/functions.html\n",
    "    \"\"\"\n",
    "    \n",
    "    # YOUR CODE HERE\n",
    "    duration = float(datum)\n",
    "    #print(\"\\n Otime: \", duration)\n",
    "    if city == \"Washington\":\n",
    "        mins = round((duration / 1000)/60, 2)\n",
    "        sec =  round((duration / 1000)%60, 2)\n",
    "    else:\n",
    "        mins = round((duration / 60), 2)\n",
    "        sec = round((duration % 60), 2)\n",
    "   # print(\"\\n Ntime: \", mins , sec)\n",
    "\n",
    "    return mins\n",
    "\n",
    "\n",
    "# Some tests to check that your code works. There should be no output if all of\n",
    "# the assertions pass. The `example_trips` dictionary was obtained from when\n",
    "# you printed the first trip from each of the original data files.\n",
    "tests = {'NYC': 13.9833,\n",
    "         'Chicago': 15.4333,\n",
    "         'Washington': 7.1231}\n",
    "\n",
    "example_trips1 = tests\n",
    "for city in tests:\n",
    "    assert abs(duration_in_mins(example_trips1[city], city) - tests[city]) > .001"
   ]
  },
  {
   "cell_type": "code",
   "execution_count": 4,
   "metadata": {},
   "outputs": [
    {
     "data": {
      "text/plain": [
       "\"\\ntests = {'NYC': '06/17/2017 02:02:02',\\n         'Chicago': '03-03-2011 03:03:04',\\n         'Washington': '04-05-2011 04:04:05'}\\nexample_trips2 = tests\\n\\nfor city in tests:\\n    assert time_of_trip(example_trips2[city], city) == tests[city]\\n\""
      ]
     },
     "execution_count": 4,
     "metadata": {},
     "output_type": "execute_result"
    }
   ],
   "source": [
    "from datetime import datetime\n",
    "def getMonthTrip(date_trip):\n",
    "    day_name = date_trip.strftime(\"%A\")\n",
    "    month_name = date_trip.strftime(\"%B\")\n",
    "\n",
    "    return month_name, day_name\n",
    "\n",
    "def getHourTrip(time_trip):\n",
    "    hours = time_trip.strftime(\"%H\")\n",
    "    mins = time_trip.strftime(\"%M\")\n",
    "    secs = time_trip.strftime(\"%S\")\n",
    "    #print(hours, \" : \", mins, \" : \", secs, \"\\n\")\n",
    "    return hours\n",
    "\n",
    "def time_of_trip(datum, city):\n",
    "    \"\"\"\n",
    "    Takes as input a dictionary containing info about a single trip (datum) and\n",
    "    its origin city (city) and returns the month, hour, and day of the week in\n",
    "    which the trip was made.\n",
    "    \n",
    "    Remember that NYC includes seconds, while Washington and Chicago do not.\n",
    "    \n",
    "    HINT: You should use the datetime module to parse the original date\n",
    "    strings into a format that is useful for extracting the desired information.\n",
    "    see https://docs.python.org/3/library/datetime.html#strftime-and-strptime-behavior\n",
    "    \"\"\"\n",
    "    \n",
    "    # YOUR CODE HERE\n",
    "    #month, hour, day_of_week = datum\n",
    "    datetime_object = datetime.strptime('05/10/09 18:00', '%d/%m/%y %H:%M')\n",
    "    if city == \"Chicago\":\n",
    "        try:\n",
    "            datetime_object = datetime.strptime(datum, '%m-%d-%Y  %H:%M:%S')\n",
    "        except ValueError:\n",
    "            try:\n",
    "                datetime_object = datetime.strptime(datum, '%m/%d/%Y  %H:%M')\n",
    "            except ValueError:\n",
    "                datetime_object = datetime.strptime(datum, '%m-%d-%Y  %H:%M') \n",
    "    elif city == 'Washington':\n",
    "        try:\n",
    "            datetime_object = datetime.strptime(datum, '%m/%d/%Y  %H:%M')\n",
    "        except ValueError:\n",
    "            try:\n",
    "                datetime_object = datetime.strptime(datum, '%m-%d-%Y  %H:%M') \n",
    "            except ValueError:\n",
    "                datetime_object = datetime.strptime(datum, '%m/%d/%Y  %H:%M:%S')\n",
    "    \n",
    "    date_trip = datetime_object.date()\n",
    "    time_trip = datetime_object.time()\n",
    "\n",
    "    month_trip, day_of_week_trip = getMonthTrip(date_trip)\n",
    "    hour_trip = getHourTrip(time_trip)\n",
    "\n",
    "    return (month_trip, hour_trip, day_of_week_trip)\n",
    "\n",
    "\n",
    "# Some tests to check that your code works. There should be no output if all of\n",
    "# the assertions pass. The `example_trips` dictionary was obtained from when\n",
    "# you printed the first trip from each of the original data files.\n",
    "'''\n",
    "tests = {'NYC': '06/17/2017 02:02:02',\n",
    "         'Chicago': '03-03-2011 03:03:04',\n",
    "         'Washington': '04-05-2011 04:04:05'}\n",
    "example_trips2 = tests\n",
    "\n",
    "for city in tests:\n",
    "    assert time_of_trip(example_trips2[city], city) == tests[city]\n",
    "'''"
   ]
  },
  {
   "cell_type": "code",
   "execution_count": 5,
   "metadata": {},
   "outputs": [
    {
     "data": {
      "text/plain": [
       "\"\\ntests = {'NYC': 'Customer',\\n         'Chicago': 'Subscriber',\\n         'Washington': 'Subscriber'}\\nexample_trips3  = tests\\n\\nfor city in tests:\\n    assert type_of_user(example_trips3[city], city) == tests[city]\\n\""
      ]
     },
     "execution_count": 5,
     "metadata": {},
     "output_type": "execute_result"
    }
   ],
   "source": [
    "def type_of_user(datum, city):\n",
    "    \"\"\"\n",
    "    Takes as input a dictionary containing info about a single trip (datum) and\n",
    "    its origin city (city) and returns the type of system user that made the\n",
    "    trip.\n",
    "    \n",
    "    Remember that Washington has different category names compared to Chicago\n",
    "    and NYC. \n",
    "    \"\"\"\n",
    "   # type_of_User_with_Country = {'Washington' : ('Registered', 'Casual'), 'NYC' : ('Subscriber', 'Customer'), 'Chicago' : ('Subscriber', 'Customer')}\n",
    "    if city == 'Washington':\n",
    "        if datum == 'Registered' or datum == 'Subscriber':\n",
    "            datum = 'Subscriber'\n",
    "        else:\n",
    "            datum = 'Customer'\n",
    "    else:\n",
    "        if datum == 'Registered' or datum == 'Subscriber':\n",
    "            datum = 'Subscriber'\n",
    "        else:\n",
    "            datum = 'Customer'\n",
    "    user_type = datum\n",
    "    #print('\\n -- > ', user_type)\n",
    "    return user_type\n",
    "\n",
    "\n",
    "# Some tests to check that your code works. There should be no output if all of\n",
    "# the assertions pass. The `example_trips` dictionary was obtained from when\n",
    "# you printed the first trip from each of the original data files.\n",
    "'''\n",
    "tests = {'NYC': 'Customer',\n",
    "         'Chicago': 'Subscriber',\n",
    "         'Washington': 'Subscriber'}\n",
    "example_trips3  = tests\n",
    "\n",
    "for city in tests:\n",
    "    assert type_of_user(example_trips3[city], city) == tests[city]\n",
    "'''"
   ]
  },
  {
   "cell_type": "markdown",
   "metadata": {},
   "source": [
    "**Question 3b**: Now, use the helper functions you wrote above to create a condensed data file for each city consisting only of the data fields indicated above. In the `/examples/` folder, you will see an example datafile from the [Bay Area Bike Share](http://www.bayareabikeshare.com/open-data) before and after conversion. Make sure that your output is formatted to be consistent with the example file."
   ]
  },
  {
   "cell_type": "code",
   "execution_count": 6,
   "metadata": {},
   "outputs": [],
   "source": [
    "import datetime\n",
    "def condense_data(in_file, out_file, city):\n",
    "    \"\"\"\n",
    "    This function takes full data from the specified input file\n",
    "    and writes the condensed data to a specified output file. The city\n",
    "    argument determines how the input file will be parsed.\n",
    "    \n",
    "    HINT: See the cell below to see how the arguments are structured!\n",
    "    \"\"\"\n",
    "    \n",
    "    with open(out_file, 'w') as f_out, open(in_file, 'r') as f_in:\n",
    "        # set up csv DictWriter object - writer requires column names for the\n",
    "        # first row as the \"fieldnames\" argument\n",
    "        #out_file = csv.writer(out_file, delimiter=' ', quotechar='|', quoting=csv.QUOTE_MINIMAL)\n",
    "        out_colnames = ['duration', 'month', 'hour', 'day_of_week', 'user_type']        \n",
    "        trip_writer = csv.DictWriter(f_out, fieldnames = out_colnames)\n",
    "        trip_writer.writeheader()\n",
    "        \n",
    "        ## TODO: set up csv DictReader object ##\n",
    "        trip_reader = csv.DictReader(f_in)\n",
    "\n",
    "        # collect data from and process each row\n",
    "        for row in trip_reader:\n",
    "            # set up a dictionary to hold the values for the cleaned and trimmed\n",
    "            # data point\n",
    "            new_point = {}\n",
    "            ## TODO: use the helper functions to get the cleaned data from  ##\n",
    "            ## the original data dictionaries.                              ##\n",
    "            ## Note that the keys for the new_point dictionary should match ##\n",
    "            ## the column names set in the DictWriter object above.         ##\n",
    "            duration = 0\n",
    "            tmpDate =''\n",
    "            user_type = ''\n",
    "\n",
    "            if(city == 'Chicago'):\n",
    "                duration = duration_in_mins(row['tripduration'], city)\n",
    "                tmpDate = row['starttime']\n",
    "                user_type = type_of_user(row['usertype'], city)\n",
    "            elif(city == 'NYC'):\n",
    "                duration = duration_in_mins(row['tripduration'], city)\n",
    "                tmpDate = row['start station id']\n",
    "                user_type = type_of_user(row['usertype'], city)\n",
    "            else:\n",
    "                duration = duration_in_mins(row['Duration (ms)'], city)\n",
    "                tmpDate = row['Start date']\n",
    "                user_type = type_of_user(row['Member Type'], city)\n",
    "            #print(duration, \"\\n\")\n",
    "            #tmpDate = row['Start date']\n",
    "            tupl = time_of_trip(tmpDate, city)\n",
    "            month, hours, day_of_week = tupl\n",
    "            \n",
    "            #datet = datetime.datetime.strptime(tmpDate,'%m/%d/%Y %M:%S')\n",
    "            #datetuple = (datet.date().month, datet.date().year, datet.date().day)\n",
    "            #print(datetuple)\n",
    "            #month, hour, day_of_week =  time_of_trip(datetuple, city) \n",
    "            #user_type = type_of_user(row['Member Type'], city)\n",
    "            #print(user_type)\n",
    "            \n",
    "            ## TODO: write the processed information to the output file.     ##\n",
    "            ## see https://docs.python.org/3/library/csv.html#writer-objects ##\n",
    "            #csvwriter = csv.writer(csvfile,  delimiter=',')\n",
    "            trip_writer.writerow({'duration': duration, 'month': month, 'hour': hours, 'day_of_week': day_of_week,'user_type':user_type})\n",
    "        "
   ]
  },
  {
   "cell_type": "code",
   "execution_count": 7,
   "metadata": {},
   "outputs": [
    {
     "ename": "FileNotFoundError",
     "evalue": "[Errno 2] No such file or directory: './data/Chicago-2016-Summary.csv'",
     "output_type": "error",
     "traceback": [
      "\u001b[1;31m---------------------------------------------------------------------------\u001b[0m",
      "\u001b[1;31mFileNotFoundError\u001b[0m                         Traceback (most recent call last)",
      "\u001b[1;32m<ipython-input-7-026736ed7993>\u001b[0m in \u001b[0;36m<module>\u001b[1;34m()\u001b[0m\n\u001b[0;32m     16\u001b[0m \u001b[1;33m\u001b[0m\u001b[0m\n\u001b[0;32m     17\u001b[0m \u001b[1;32mfor\u001b[0m \u001b[0mcity\u001b[0m\u001b[1;33m,\u001b[0m \u001b[0mfilenames\u001b[0m \u001b[1;32min\u001b[0m \u001b[0mcity_info\u001b[0m\u001b[1;33m.\u001b[0m\u001b[0mitems\u001b[0m\u001b[1;33m(\u001b[0m\u001b[1;33m)\u001b[0m\u001b[1;33m:\u001b[0m\u001b[1;33m\u001b[0m\u001b[0m\n\u001b[1;32m---> 18\u001b[1;33m     \u001b[0mcondense_data\u001b[0m\u001b[1;33m(\u001b[0m\u001b[0mfilenames\u001b[0m\u001b[1;33m[\u001b[0m\u001b[1;34m'in_file'\u001b[0m\u001b[1;33m]\u001b[0m\u001b[1;33m,\u001b[0m \u001b[0mfilenames\u001b[0m\u001b[1;33m[\u001b[0m\u001b[1;34m'out_file'\u001b[0m\u001b[1;33m]\u001b[0m\u001b[1;33m,\u001b[0m \u001b[0mcity\u001b[0m\u001b[1;33m)\u001b[0m\u001b[1;33m\u001b[0m\u001b[0m\n\u001b[0m\u001b[0;32m     19\u001b[0m     \u001b[0mprint_first_point\u001b[0m\u001b[1;33m(\u001b[0m\u001b[0mfilenames\u001b[0m\u001b[1;33m[\u001b[0m\u001b[1;34m'out_file'\u001b[0m\u001b[1;33m]\u001b[0m\u001b[1;33m)\u001b[0m\u001b[1;33m\u001b[0m\u001b[0m\n",
      "\u001b[1;32m<ipython-input-6-12c9ec436537>\u001b[0m in \u001b[0;36mcondense_data\u001b[1;34m(in_file, out_file, city)\u001b[0m\n\u001b[0;32m      9\u001b[0m     \"\"\"\n\u001b[0;32m     10\u001b[0m \u001b[1;33m\u001b[0m\u001b[0m\n\u001b[1;32m---> 11\u001b[1;33m     \u001b[1;32mwith\u001b[0m \u001b[0mopen\u001b[0m\u001b[1;33m(\u001b[0m\u001b[0mout_file\u001b[0m\u001b[1;33m,\u001b[0m \u001b[1;34m'w'\u001b[0m\u001b[1;33m)\u001b[0m \u001b[1;32mas\u001b[0m \u001b[0mf_out\u001b[0m\u001b[1;33m,\u001b[0m \u001b[0mopen\u001b[0m\u001b[1;33m(\u001b[0m\u001b[0min_file\u001b[0m\u001b[1;33m,\u001b[0m \u001b[1;34m'r'\u001b[0m\u001b[1;33m)\u001b[0m \u001b[1;32mas\u001b[0m \u001b[0mf_in\u001b[0m\u001b[1;33m:\u001b[0m\u001b[1;33m\u001b[0m\u001b[0m\n\u001b[0m\u001b[0;32m     12\u001b[0m         \u001b[1;31m# set up csv DictWriter object - writer requires column names for the\u001b[0m\u001b[1;33m\u001b[0m\u001b[1;33m\u001b[0m\u001b[0m\n\u001b[0;32m     13\u001b[0m         \u001b[1;31m# first row as the \"fieldnames\" argument\u001b[0m\u001b[1;33m\u001b[0m\u001b[1;33m\u001b[0m\u001b[0m\n",
      "\u001b[1;31mFileNotFoundError\u001b[0m: [Errno 2] No such file or directory: './data/Chicago-2016-Summary.csv'"
     ]
    }
   ],
   "source": [
    "# Run this cell to check your work\n",
    "from datetime import datetime\n",
    "import csv\n",
    "city_info = {'Chicago': {'in_file': './data/Chicago-Divvy-2016.csv',\n",
    "                         'out_file': './data/Chicago-2016-Summary.csv'},\n",
    "             'Washington': {'in_file': './data/Washington-CapitalBikeshare-2016.csv',\n",
    "                            'out_file': './data/Washington-2016-Summary.csv'},\n",
    "            'NYC': {'in_file': './data/NYC-CitiBike-2016.csv',\n",
    "                     'out_file': './data/NYC-2016-Summary.csv'}}\n",
    "\n",
    "def print_first_point(filenames):\n",
    "    with open(filenames, newline='') as f:\n",
    "        reader = csv.reader(f)\n",
    "        for row in reader:\n",
    "            print(row)\n",
    "\n",
    "for city, filenames in city_info.items():\n",
    "    condense_data(filenames['in_file'], filenames['out_file'], city)\n",
    "    print_first_point(filenames['out_file'])"
   ]
  },
  {
   "cell_type": "markdown",
   "metadata": {},
   "source": [
    "> **Tip**: If you save a jupyter Notebook, the output from running code blocks will also be saved. However, the state of your workspace will be reset once a new session is started. Make sure that you run all of the necessary code blocks from your previous session to reestablish variables and functions before picking up where you last left off.\n",
    "\n",
    "<a id='eda'></a>\n",
    "## Exploratory Data Analysis\n",
    "\n",
    "Now that you have the data collected and wrangled, you're ready to start exploring the data. In this section you will write some code to compute descriptive statistics from the data. You will also be introduced to the `matplotlib` library to create some basic histograms of the data.\n",
    "\n",
    "<a id='statistics'></a>\n",
    "### Statistics\n",
    "\n",
    "First, let's compute some basic counts. The first cell below contains a function that uses the csv module to iterate through a provided data file, returning the number of trips made by subscribers and customers. The second cell runs this function on the example Bay Area data in the `/examples/` folder. Modify the cells to answer the question below.\n",
    "\n",
    "**Question 4a**: Which city has the highest number of trips? Which city has the highest proportion of trips made by subscribers? Which city has the highest proportion of trips made by short-term customers?\n",
    "\n",
    "**Answer**: Looking to data, seems like \n",
    "\n",
    "NYC reports has highest number of trips among other cities. : (276798)\n",
    "\n",
    "NYC city has the highest proportion of trips made by subscribers. : (245896)\n",
    "\n",
    "NYC city has the highest proportion of trips made by short-term customers. : (30902)"
   ]
  },
  {
   "cell_type": "code",
   "execution_count": 8,
   "metadata": {},
   "outputs": [
    {
     "ename": "FileNotFoundError",
     "evalue": "[Errno 2] No such file or directory: './data/Washington-2016-Summary.csv'",
     "output_type": "error",
     "traceback": [
      "\u001b[1;31m---------------------------------------------------------------------------\u001b[0m",
      "\u001b[1;31mFileNotFoundError\u001b[0m                         Traceback (most recent call last)",
      "\u001b[1;32m<ipython-input-8-37b834165922>\u001b[0m in \u001b[0;36m<module>\u001b[1;34m()\u001b[0m\n\u001b[0;32m     26\u001b[0m         \u001b[1;32mreturn\u001b[0m\u001b[1;33m(\u001b[0m\u001b[0mn_subscribers\u001b[0m\u001b[1;33m,\u001b[0m \u001b[0mn_customers\u001b[0m\u001b[1;33m,\u001b[0m \u001b[0mn_total\u001b[0m\u001b[1;33m)\u001b[0m\u001b[1;33m\u001b[0m\u001b[0m\n\u001b[0;32m     27\u001b[0m \u001b[1;33m\u001b[0m\u001b[0m\n\u001b[1;32m---> 28\u001b[1;33m \u001b[0mprint\u001b[0m\u001b[1;33m(\u001b[0m\u001b[0mnumber_of_trips\u001b[0m\u001b[1;33m(\u001b[0m\u001b[1;34m'./data/Washington-2016-Summary.csv'\u001b[0m\u001b[1;33m)\u001b[0m\u001b[1;33m)\u001b[0m\u001b[1;33m\u001b[0m\u001b[0m\n\u001b[0m",
      "\u001b[1;32m<ipython-input-8-37b834165922>\u001b[0m in \u001b[0;36mnumber_of_trips\u001b[1;34m(filename)\u001b[0m\n\u001b[0;32m      4\u001b[0m     \u001b[0mtrips\u001b[0m \u001b[0mmade\u001b[0m \u001b[0mby\u001b[0m \u001b[0msubscribers\u001b[0m\u001b[1;33m,\u001b[0m \u001b[0mcustomers\u001b[0m\u001b[1;33m,\u001b[0m \u001b[1;32mand\u001b[0m \u001b[0mtotal\u001b[0m \u001b[0moverall\u001b[0m\u001b[1;33m.\u001b[0m\u001b[1;33m\u001b[0m\u001b[0m\n\u001b[0;32m      5\u001b[0m     \"\"\"\n\u001b[1;32m----> 6\u001b[1;33m     \u001b[1;32mwith\u001b[0m \u001b[0mopen\u001b[0m\u001b[1;33m(\u001b[0m\u001b[0mfilename\u001b[0m\u001b[1;33m,\u001b[0m \u001b[1;34m'r'\u001b[0m\u001b[1;33m)\u001b[0m \u001b[1;32mas\u001b[0m \u001b[0mf_in\u001b[0m\u001b[1;33m:\u001b[0m\u001b[1;33m\u001b[0m\u001b[0m\n\u001b[0m\u001b[0;32m      7\u001b[0m         \u001b[1;31m# set up csv reader object\u001b[0m\u001b[1;33m\u001b[0m\u001b[1;33m\u001b[0m\u001b[0m\n\u001b[0;32m      8\u001b[0m         \u001b[0mreader\u001b[0m \u001b[1;33m=\u001b[0m \u001b[0mcsv\u001b[0m\u001b[1;33m.\u001b[0m\u001b[0mDictReader\u001b[0m\u001b[1;33m(\u001b[0m\u001b[0mf_in\u001b[0m\u001b[1;33m)\u001b[0m\u001b[1;33m\u001b[0m\u001b[0m\n",
      "\u001b[1;31mFileNotFoundError\u001b[0m: [Errno 2] No such file or directory: './data/Washington-2016-Summary.csv'"
     ]
    }
   ],
   "source": [
    "def number_of_trips(filename):\n",
    "    \"\"\"\n",
    "    This function reads in a file with trip data and reports the number of\n",
    "    trips made by subscribers, customers, and total overall.\n",
    "    \"\"\"\n",
    "    with open(filename, 'r') as f_in:\n",
    "        # set up csv reader object\n",
    "        reader = csv.DictReader(f_in)\n",
    "        \n",
    "        # initialize count variables\n",
    "        n_subscribers = 0\n",
    "        n_customers = 0\n",
    "        \n",
    "        # tally up ride types\n",
    "        for row in reader:\n",
    "            if row['user_type'] == 'Subscriber':\n",
    "                n_subscribers += 1\n",
    "            else:\n",
    "                n_customers += 1\n",
    "        \n",
    "        # compute total number of rides\n",
    "        n_total = n_subscribers + n_customers\n",
    "        #print(\"total = \", n_total)\n",
    "        \n",
    "        # return tallies as a tuple\n",
    "        return(n_subscribers, n_customers, n_total)\n",
    "\n",
    "print(number_of_trips('./data/Washington-2016-Summary.csv'))"
   ]
  },
  {
   "cell_type": "code",
   "execution_count": 9,
   "metadata": {},
   "outputs": [],
   "source": [
    "#function to check which city has highest ride, highest ride by subscriber and highest ride by customer\n"
   ]
  },
  {
   "cell_type": "code",
   "execution_count": 10,
   "metadata": {},
   "outputs": [
    {
     "name": "stdout",
     "output_type": "stream",
     "text": [
      "{'Washington': [66326, 51753, 14573], 'Chicago': [72131, 54982, 17149], 'NYC': [276798, 245896, 30902]}\n"
     ]
    }
   ],
   "source": [
    "## Modify this and the previous cell to answer Question 4a. Remember to run ##\n",
    "## the function on the cleaned data files you created from Question 3.      ##\n",
    "\n",
    "city_info = {'Washington': './data/Washington-2016-Summary.csv',\n",
    "             'Chicago':'./data/Chicago-2016-Summary.csv',\n",
    "             'NYC': './data/NYC-2016-Summary.csv'} \n",
    "\n",
    "city_highest_number_of_trip = ''\n",
    "city_highest_proportion_of_subscriber =''\n",
    "city_highest_proportion_of_trips_customers = ''\n",
    "\n",
    "highest_number_of_trip = 0\n",
    "highest_proportion_of_subscriber = 0\n",
    "highest_proportion_of_trips_customers = 0\n",
    "\n",
    "total_city_trip = {}\n",
    "\n",
    "for city, filelink in city_info.items():\n",
    "    highest_proportion_of_subscriber_t, highest_proportion_of_trips_customers_t, highest_number_of_trip_t, = number_of_trips(filelink)\n",
    "    \n",
    "    total_city_trip.setdefault(city, []).append(highest_number_of_trip_t)\n",
    "    total_city_trip.setdefault(city, []).append(highest_proportion_of_subscriber_t)\n",
    "    total_city_trip.setdefault(city, []).append(highest_proportion_of_trips_customers_t)\n",
    "    \n",
    "    if(highest_proportion_of_subscriber_t > highest_proportion_of_subscriber):\n",
    "        highest_proportion_of_subscriber = highest_proportion_of_subscriber_t\n",
    "        city_highest_proportion_of_subscriber = city\n",
    "    if(highest_proportion_of_trips_customers_t > highest_proportion_of_trips_customers):\n",
    "        city_highest_proportion_of_trips_customers = city\n",
    "    if(highest_number_of_trip_t > highest_number_of_trip):\n",
    "        city_highest_number_of_trip = city\n",
    "    \n",
    "#print('city_highest_number_of_trip : ', city_highest_number_of_trip, ' \\ncity_highest_proportion_of_subscriber : ',city_highest_proportion_of_subscriber,' \\ncity_highest_proportion_of_trips_customers : ',city_highest_proportion_of_trips_customers)\n",
    "print(total_city_trip)\n",
    "\n"
   ]
  },
  {
   "cell_type": "markdown",
   "metadata": {},
   "source": [
    "> **Tip**: In order to add additional cells to a notebook, you can use the \"Insert Cell Above\" and \"Insert Cell Below\" options from the menu bar above. There is also an icon in the toolbar for adding new cells, with additional icons for moving the cells up and down the document. By default, new cells are of the code type; you can also specify the cell type (e.g. Code or Markdown) of selected cells from the Cell menu or the dropdown in the toolbar.\n",
    "\n",
    "Now, you will write your own code to continue investigating properties of the data.\n",
    "\n",
    "**Question 4b**: Bike-share systems are designed for riders to take short trips. Most of the time, users are allowed to take trips of 30 minutes or less with no additional charges, with overage charges made for trips of longer than that duration. What is the average trip length for each city? What proportion of rides made in each city are longer than 30 minutes?\n",
    "\n",
    "**Answer**: \n",
    "City:  Washington \n",
    "\t\n",
    "    Average trip length:  18.932863432138245 \n",
    "\t\n",
    "    Proposition of ride longer than 30 mins :  10.835871302355034\n",
    "    \n",
    "\n",
    "City:  Chicago \n",
    "\t\n",
    "    Average trip length:  16.563627843784232 \n",
    "\t\n",
    "    Proposition of ride longer than 30 mins :  8.332062497400562\n",
    "    \n",
    "    \n",
    "\n",
    "City:  NYC \n",
    "\t\n",
    "    Average trip length:  15.812597851140811 \n",
    "\t\n",
    "    Proposition of ride longer than 30 mins :  7.3024371563378345"
   ]
  },
  {
   "cell_type": "code",
   "execution_count": 11,
   "metadata": {},
   "outputs": [],
   "source": [
    "def average_trip_length(filename):\n",
    "    \"\"\"\n",
    "    This function reads in a file with trip data and reports the average trip length made by all users.\n",
    "    \"\"\"\n",
    "    with open(filename, 'r') as f_in:\n",
    "        # set up csv reader object\n",
    "        reader = csv.DictReader(f_in)\n",
    "        \n",
    "        # initialize count variables\n",
    "        average_triplength = 0\n",
    "        number_of_trip = 0\n",
    "        sum_of_duration = 0\n",
    "        \n",
    "        # tally up ride types\n",
    "        for row in reader:\n",
    "            sum_of_duration = sum_of_duration + float(row['duration'])\n",
    "            number_of_trip = number_of_trip + 1\n",
    "        \n",
    "        average_triplength = sum_of_duration/number_of_trip\n",
    "    \n",
    "    return average_triplength"
   ]
  },
  {
   "cell_type": "code",
   "execution_count": 12,
   "metadata": {},
   "outputs": [],
   "source": [
    "def proposition_of_ride_greater_then_small_trip(filename):\n",
    "    \"\"\"\n",
    "    This function reads in a file with trip data and reports the proposition of ride made in each city are longer than 30 mins.\n",
    "    \"\"\"\n",
    "    with open(filename, 'r') as f_in:\n",
    "        # set up csv reader object\n",
    "        reader = csv.DictReader(f_in)\n",
    "        \n",
    "        # initialize count variables\n",
    "        proposition_of_trip = 0\n",
    "        trip_length = 0\n",
    "        total_number_of_trip = 0\n",
    "        # tally up ride types\n",
    "        for row in reader:\n",
    "            trip_length = float(row['duration'])\n",
    "            if(trip_length > 30):\n",
    "                proposition_of_trip = proposition_of_trip + 1\n",
    "            total_number_of_trip = total_number_of_trip + 1\n",
    "        \n",
    "        proposition_of_trip = (proposition_of_trip/total_number_of_trip)*100\n",
    "    return proposition_of_trip"
   ]
  },
  {
   "cell_type": "code",
   "execution_count": 13,
   "metadata": {
    "scrolled": true
   },
   "outputs": [
    {
     "name": "stdout",
     "output_type": "stream",
     "text": [
      "City:  Washington \n",
      "\tAverage trip length:  18.932863432138245 \n",
      "\tProposition of ride longer than 30 mins :  10.835871302355034\n",
      "City:  Chicago \n",
      "\tAverage trip length:  16.563627843784232 \n",
      "\tProposition of ride longer than 30 mins :  8.332062497400562\n",
      "City:  NYC \n",
      "\tAverage trip length:  15.812597851140811 \n",
      "\tProposition of ride longer than 30 mins :  7.3024371563378345\n"
     ]
    }
   ],
   "source": [
    "## Use this and additional cells to answer Question 4b.                 ##\n",
    "##                                                                      ##\n",
    "## HINT: The csv module reads in all of the data as strings, including  ##\n",
    "## numeric values. You will need a function to convert the strings      ##\n",
    "## into an appropriate numeric type before you aggregate data.          ##\n",
    "## TIP: For the Bay Area example, the average trip length is 14 minutes ##\n",
    "## and 3.5% of trips are longer than 30 minutes.                        ##\n",
    "\n",
    "city_info = {'Washington': './data/Washington-2016-Summary.csv',\n",
    "             'Chicago':'./data/Chicago-2016-Summary.csv',\n",
    "             'NYC': './data/NYC-2016-Summary.csv'} \n",
    "\n",
    "average_of_trip_length = ''\n",
    "proposition_of_trip =''\n",
    "\n",
    "for city, filelink in city_info.items():\n",
    "    average_of_trip_length = average_trip_length(filelink)\n",
    "    proposition_of_trip = proposition_of_ride_greater_then_small_trip(filelink)\n",
    "    print('City: ', city, '\\n\\tAverage trip length: ', average_of_trip_length, '\\n\\tProposition of ride longer than 30 mins : ', proposition_of_trip)\n"
   ]
  },
  {
   "cell_type": "markdown",
   "metadata": {},
   "source": [
    "**Question 4c**: Dig deeper into the question of trip duration based on ridership. Choose one city. Within that city, which type of user takes longer rides on average: Subscribers or Customers?\n",
    "\n",
    "**Answer**: \n",
    "City:  Washington \n",
    "\t \n",
    "     Customer trip duration has longer duration :  6.838454452250984  , \n",
    "     \n",
    "     Subscriber trip duration to be :  1.5439836564846388"
   ]
  },
  {
   "cell_type": "code",
   "execution_count": 14,
   "metadata": {},
   "outputs": [],
   "source": [
    "def longer_rides_average_subscribers_or_customers(filename):\n",
    "    \"\"\"\n",
    "    This function reads in a file with trip data and reports the number of\n",
    "    trips made by subscribers, customers, and total overall.\n",
    "    \"\"\"\n",
    "    with open(filename, 'r') as f_in:\n",
    "        # set up csv reader object\n",
    "        reader = csv.DictReader(f_in)\n",
    "        \n",
    "        # initialize count variables\n",
    "        average_triplength_customer = 0\n",
    "        average_triplength_subscriber = 0\n",
    "        number_of_trip = 0\n",
    "        sum_of_duration_subscriber = 0\n",
    "        sum_of_duration_customer = 0\n",
    "        trip_length = 0\n",
    "        type_of_users = ''\n",
    "        \n",
    "        # tally up ride types\n",
    "        for row in reader:\n",
    "            trip_length = float(row['duration'])\n",
    "            if(trip_length > 30):\n",
    "                if row['user_type'] == 'Subscriber':\n",
    "                    sum_of_duration_subscriber = sum_of_duration_subscriber + trip_length\n",
    "                else:\n",
    "                    sum_of_duration_customer = sum_of_duration_customer + trip_length\n",
    "            number_of_trip = number_of_trip + 1\n",
    "        \n",
    "        #if sum_of_duration_subscriber > sum_of_duration_customer:\n",
    "        average_triplength_subscriber = sum_of_duration_subscriber/number_of_trip\n",
    "        #else:\n",
    "        average_triplength_customer = sum_of_duration_customer/number_of_trip\n",
    "        \n",
    "        if average_triplength_customer > average_triplength_subscriber:\n",
    "            type_of_users = 'Customer'\n",
    "        else:\n",
    "            type_of_users = 'Subscriber'\n",
    "        \n",
    "        # return tallies as a tuple\n",
    "        return(average_triplength_subscriber, average_triplength_customer,type_of_users)\n",
    "\n",
    "#print(number_of_trips('./data/Washington-2016-Summary.csv'))"
   ]
  },
  {
   "cell_type": "code",
   "execution_count": 15,
   "metadata": {},
   "outputs": [
    {
     "name": "stdout",
     "output_type": "stream",
     "text": [
      "City:  Washington \n",
      "\t Customer trip duration has longer duration :  6.838454452250984  , Subscriber trip duration to be :  1.5439836564846388\n"
     ]
    }
   ],
   "source": [
    "## Use this and additional cells to answer Question 4c. If you have    ##\n",
    "## not done so yet, consider revising some of your previous code to    ##\n",
    "## make use of functions for reusability.                              ##\n",
    "##                                                                     ##\n",
    "## TIP: For the Bay Area example data, you should find the average     ##\n",
    "## Subscriber trip duration to be 9.5 minutes and the average Customer ##\n",
    "## trip duration to be 54.6 minutes. Do the other cities have this     ##\n",
    "## level of difference?                                                ##\n",
    "\n",
    "##city_info = {'Washington': './data/Washington-2016-Summary.csv',     ##\n",
    "##             'Chicago':'./data/Chicago-2016-Summary.csv',            ##\n",
    "##            'NYC': './data/NYC-2016-Summary.csv'}                    ##\n",
    "\n",
    "city_info = {'Washington': './data/Washington-2016-Summary.csv'}\n",
    "\n",
    "average_of_trip_length_subscriber = 0\n",
    "average_of_trip_length_customer = 0\n",
    "type_of_users = ''\n",
    "\n",
    "for city, filelink in city_info.items():\n",
    "    average_of_trip_length_subscriber, average_of_trip_length_customer, type_of_users = longer_rides_average_subscribers_or_customers(filelink)\n",
    "    if(type_of_users == 'Customer'):\n",
    "        print('City: ', city, '\\n\\t Customer trip duration has longer duration : ', average_of_trip_length_customer, ' , Subscriber trip duration to be : ',average_of_trip_length_subscriber)\n",
    "    else:\n",
    "        print('City: ', city, '\\n\\t Subscriber trip duration has longer duration : ', average_of_trip_length_subscriber, ' , Customer trip duration to be : ',average_of_trip_length_customer)"
   ]
  },
  {
   "cell_type": "markdown",
   "metadata": {},
   "source": [
    "<a id='visualizations'></a>\n",
    "### Visualizations\n",
    "\n",
    "The last set of values that you computed should have pulled up an interesting result. While the mean trip time for Subscribers is well under 30 minutes, the mean trip time for Customers is actually _above_ 30 minutes! It will be interesting for us to look at how the trip times are distributed. In order to do this, a new library will be introduced here, `matplotlib`. Run the cell below to load the library and to generate an example plot."
   ]
  },
  {
   "cell_type": "code",
   "execution_count": 16,
   "metadata": {},
   "outputs": [
    {
     "data": {
      "image/png": "[encoded data removed]",
      "text/plain": [
       "<matplotlib.figure.Figure at 0x7fd7f16b3710>"
      ]
     },
     "metadata": {},
     "output_type": "display_data"
    }
   ],
   "source": [
    "# load library\n",
    "import matplotlib.pyplot as plt\n",
    "\n",
    "# this is a 'magic word' that allows for plots to be displayed\n",
    "# inline with the notebook. If you want to know more, see:\n",
    "# http://ipython.readthedocs.io/en/stable/interactive/magics.html\n",
    "%matplotlib inline \n",
    "\n",
    "# example histogram, data taken from bay area sample\n",
    "data = [ 7.65,  8.92,  7.42,  5.50, 16.17,  4.20,  8.98,  9.62, 11.48, 14.33,\n",
    "        19.02, 21.53,  3.90,  7.97,  2.62,  2.67,  3.08, 14.40, 12.90,  7.83,\n",
    "        25.12,  8.30,  4.93, 12.43, 10.60,  6.17, 10.88,  4.78, 15.15,  3.53,\n",
    "         9.43, 13.32, 11.72,  9.85,  5.22, 15.10,  3.95,  3.17,  8.78,  1.88,\n",
    "         4.55, 12.68, 12.38,  9.78,  7.63,  6.45, 17.38, 11.90, 11.52,  8.63,]\n",
    "plt.hist(data)\n",
    "plt.title('Distribution of Trip Durations')\n",
    "plt.xlabel('Duration (m)')\n",
    "plt.show()"
   ]
  },
  {
   "cell_type": "markdown",
   "metadata": {},
   "source": [
    "In the above cell, we collected fifty trip times in a list, and passed this list as the first argument to the `.hist()` function. This function performs the computations and creates plotting objects for generating a histogram, but the plot is actually not rendered until the `.show()` function is executed. The `.title()` and `.xlabel()` functions provide some labeling for plot context.\n",
    "\n",
    "You will now use these functions to create a histogram of the trip times for the city you selected in question 4c. Don't separate the Subscribers and Customers for now: just collect all of the trip times and plot them."
   ]
  },
  {
   "cell_type": "code",
   "execution_count": 17,
   "metadata": {},
   "outputs": [],
   "source": [
    "def collect_all_of_the_trip_times(filename):\n",
    "    all_trips_time = []\n",
    "    with open(filename, 'r') as f_in:\n",
    "        # set up csv reader object\n",
    "        reader = csv.DictReader(f_in)\n",
    "        \n",
    "        # tally up ride types\n",
    "        for row in reader:\n",
    "            all_trips_time.append(float(row['duration']))\n",
    "        \n",
    "    return all_trips_time\n",
    "    "
   ]
  },
  {
   "cell_type": "code",
   "execution_count": 18,
   "metadata": {},
   "outputs": [
    {
     "data": {
      "image/png": "[encoded data removed]",
      "text/plain": [
       "<matplotlib.figure.Figure at 0x7fd7d53558d0>"
      ]
     },
     "metadata": {},
     "output_type": "display_data"
    }
   ],
   "source": [
    "## Use this and additional cells to collect all of the trip times as a list ##\n",
    "## and then use pyplot functions to generate a histogram of trip times.     ##\n",
    "\n",
    "# load library\n",
    "import matplotlib.pyplot as plt\n",
    "\n",
    "# this is a 'magic word' that allows for plots to be displayed\n",
    "# inline with the notebook. If you want to know more, see:\n",
    "# http://ipython.readthedocs.io/en/stable/interactive/magics.html\n",
    "%matplotlib inline \n",
    "\n",
    "# example histogram, data taken from bay area sample\n",
    "all_trips_times = []\n",
    "city = 'Washington'\n",
    "filelink = './data/Washington-2016-Summary.csv'\n",
    "all_trips_times = collect_all_of_the_trip_times(filelink)\n",
    "xmin = 5\n",
    "xmax = 25\n",
    "\n",
    "plt.hist(all_trips_times, range=[xmin,xmax])\n",
    "plt.title('Distribution of Trip Durations')\n",
    "plt.xlabel('Duration (m)')\n",
    "plt.show()\n"
   ]
  },
  {
   "cell_type": "markdown",
   "metadata": {},
   "source": [
    "If you followed the use of the `.hist()` and `.show()` functions exactly like in the example, you're probably looking at a plot that's completely unexpected. The plot consists of one extremely tall bar on the left, maybe a very short second bar, and a whole lot of empty space in the center and right. Take a look at the duration values on the x-axis. This suggests that there are some highly infrequent outliers in the data. Instead of reprocessing the data, you will use additional parameters with the `.hist()` function to limit the range of data that is plotted. Documentation for the function can be found [[here]](https://matplotlib.org/devdocs/api/_as_gen/matplotlib.pyplot.hist.html#matplotlib.pyplot.hist).\n",
    "\n",
    "**Question 5**: Use the parameters of the `.hist()` function to plot the distribution of trip times for the Subscribers in your selected city. Do the same thing for only the Customers. Add limits to the plots so that only trips of duration less than 75 minutes are plotted. As a bonus, set the plots up so that bars are in five-minute wide intervals. For each group, where is the peak of each distribution? How would you describe the shape of each distribution?\n",
    "\n",
    "**Answer**: peak of each distribution is between 10 - 30 minutes.\n",
    "            Shape of each distribution is decreament. when time is getting increase , the ride got decrease."
   ]
  },
  {
   "cell_type": "code",
   "execution_count": 19,
   "metadata": {},
   "outputs": [],
   "source": [
    "def collect_customer_trip_times(filename):\n",
    "    customer_trips_time = []\n",
    "    with open(filename, 'r') as f_in:\n",
    "        # set up csv reader object\n",
    "        reader = csv.DictReader(f_in)\n",
    "        \n",
    "        # tally up ride types\n",
    "        for row in reader:\n",
    "            if row['user_type'] == 'Customer':\n",
    "                customer_trips_time.append(float(row['duration']))\n",
    "        \n",
    "    return customer_trips_time\n",
    "    "
   ]
  },
  {
   "cell_type": "code",
   "execution_count": 20,
   "metadata": {},
   "outputs": [
    {
     "data": {
      "image/png": "[encoded data removed]",
      "text/plain": [
       "<matplotlib.figure.Figure at 0x7fd7d538ce80>"
      ]
     },
     "metadata": {},
     "output_type": "display_data"
    }
   ],
   "source": [
    "## Use this and additional cells to answer Question 5. ##\n",
    "\n",
    "# load library\n",
    "import matplotlib.pyplot as plt\n",
    "\n",
    "# this is a 'magic word' that allows for plots to be displayed\n",
    "# inline with the notebook. If you want to know more, see:\n",
    "# http://ipython.readthedocs.io/en/stable/interactive/magics.html\n",
    "%matplotlib inline \n",
    "\n",
    "# example histogram, data taken from bay area sample\n",
    "customer_trips_times = []\n",
    "city = 'Washington'\n",
    "filelink = './data/Washington-2016-Summary.csv'\n",
    "customer_trips_times = collect_customer_trip_times(filelink)\n",
    "xmin = 5\n",
    "xmax = 74\n",
    "\n",
    "plt.hist(customer_trips_times, range=[xmin,xmax])\n",
    "plt.title('Distribution of Trip Durations')\n",
    "plt.xlabel('Duration (m)')\n",
    "plt.show()\n",
    "\n"
   ]
  },
  {
   "cell_type": "markdown",
   "metadata": {
    "collapsed": true
   },
   "source": [
    "<a id='eda_continued'></a>\n",
    "## Performing Your Own Analysis\n",
    "\n",
    "So far, you've performed an initial exploration into the data available. You have compared the relative volume of trips made between three U.S. cities and the ratio of trips made by Subscribers and Customers. For one of these cities, you have investigated differences between Subscribers and Customers in terms of how long a typical trip lasts. Now it is your turn to continue the exploration in a direction that you choose. Here are a few suggestions for questions to explore:\n",
    "\n",
    "- How does ridership differ by month or season? Which month / season has the highest ridership? Does the ratio of Subscriber trips to Customer trips change depending on the month or season?\n",
    "- Is the pattern of ridership different on the weekends versus weekdays? On what days are Subscribers most likely to use the system? What about Customers? Does the average duration of rides change depending on the day of the week?\n",
    "- During what time of day is the system used the most? Is there a difference in usage patterns for Subscribers and Customers?\n",
    "\n",
    "If any of the questions you posed in your answer to question 1 align with the bullet points above, this is a good opportunity to investigate one of them. As part of your investigation, you will need to create a visualization. If you want to create something other than a histogram, then you might want to consult the [Pyplot documentation](https://matplotlib.org/devdocs/api/pyplot_summary.html). In particular, if you are plotting values across a categorical variable (e.g. city, user type), a bar chart will be useful. The [documentation page for `.bar()`](https://matplotlib.org/devdocs/api/_as_gen/matplotlib.pyplot.bar.html#matplotlib.pyplot.bar) includes links at the bottom of the page with examples for you to build off of for your own use.\n",
    "\n",
    "**Question 6**: Continue the investigation by exploring another question that could be answered by the data available. Document the question you want to explore below. Your investigation should involve at least two variables and should compare at least two groups. You should also use at least one visualization as part of your explorations.\n",
    "\n",
    "**Answer**: I am going to do analysis about below question\n",
    "\n",
    "Q) How does ridership differ by month or season?\n",
    "\n",
    "Ans) Yes, according to diagram 6.1, each month has different number of rides.\n",
    "\n",
    "\n",
    "Q)Which month / season has the highest ridership? \n",
    "\n",
    "Ans) June month has the highest ridership. \n",
    "\n",
    "\n",
    "Q) Does the ratio of Subscriber trips to Customer trips change depending on the month or season?\n",
    "\n",
    "Ans) Yes, it is clearly visible in diagram 6.2\n",
    "\n"
   ]
  },
  {
   "cell_type": "code",
   "execution_count": 21,
   "metadata": {},
   "outputs": [
    {
     "name": "stdout",
     "output_type": "stream",
     "text": [
      "['month', 'total_ride', 'subscriber_ride', 'customer_ride']\n",
      "['January', '31140.01', '22884.16', '8255.85']\n",
      "['February', '36565.41', '27249.85', '9315.56']\n",
      "['March', '110075.12', '56910.12', '53165.0']\n",
      "['April', '109825.67', '55392.82', '54432.85']\n",
      "['May', '116117.2', '60799.2', '55318.0']\n",
      "['June', '153950.44', '78736.68', '75213.76']\n",
      "['July', '168083.6', '70896.96', '97186.64']\n",
      "['August', '134724.82', '68218.3', '66506.52']\n",
      "['September', '131644.86', '63840.2', '67804.66']\n",
      "['October', '125110.33', '63148.11', '61962.22']\n",
      "['November', '89993.24', '47203.91', '42789.33']\n",
      "['December', '48510.4', '33087.26', '15423.14']\n"
     ]
    }
   ],
   "source": [
    "# Run this cell to check your work\n",
    "from datetime import datetime\n",
    "import csv\n",
    "import datetime\n",
    "from decimal import Decimal\n",
    "\n",
    "def myAnalysisData(in_file, out_file):\n",
    "    \n",
    "    with open(out_file, 'w') as f_out, open(in_file, 'r') as f_in:\n",
    "        out_colnames = ['month', 'total_ride', 'subscriber_ride', 'customer_ride']        \n",
    "        trip_writer = csv.DictWriter(f_out, fieldnames = out_colnames)\n",
    "        trip_writer.writeheader()\n",
    "        months = ['January', 'February', 'March', 'April', 'May', 'June', 'July', 'August', 'September', 'October', 'November', 'December']        \n",
    "        \n",
    "        ## TODO: set up csv DictReader object ##\n",
    "        trip_reader = csv.DictReader(f_in)\n",
    "\n",
    "        # collect data from and process each row\n",
    "        for ind in range(len(months)):\n",
    "            total_ride = 0\n",
    "            subscriber_ride = 0\n",
    "            customer_ride = 0\n",
    "            month = ''\n",
    "            trip_readeraa = csv.DictReader(open(in_file, 'r'))\n",
    "            for row in trip_readeraa:\n",
    "                if(row['month'] == months[ind]):\n",
    "                    total_ride = total_ride + float(row['duration'])\n",
    "                    total_ride = round(total_ride,2)\n",
    "                    month = row['month']\n",
    "                    if(row['user_type'] == 'Subscriber'):\n",
    "                        subscriber_ride = subscriber_ride + float(row['duration'])\n",
    "                        subscriber_ride = round(subscriber_ride,2)\n",
    "                    else:\n",
    "                        customer_ride = customer_ride + float(row['duration'])\n",
    "                        customer_ride = round(customer_ride,2)\n",
    "            trip_writer.writerow({'month': month, 'total_ride': total_ride, 'subscriber_ride': subscriber_ride,'customer_ride':customer_ride})\n",
    "\n",
    "filenames = {'in_file': './data/Washington-2016-Summary.csv', 'out_file': './data/myAnalysis.csv'}\n",
    "\n",
    "def print_first_point(filename):\n",
    "    with open(filename, newline='') as f:\n",
    "        reader = csv.reader(f)\n",
    "        for row in reader:\n",
    "            print(row)\n",
    "    \n",
    "myAnalysisData(filenames['in_file'], filenames['out_file'])\n",
    "print_first_point(filenames['out_file'])"
   ]
  },
  {
   "cell_type": "code",
   "execution_count": 26,
   "metadata": {},
   "outputs": [],
   "source": [
    "def collect_monthly_trip_times(filename, column_name):\n",
    "    months_trips_time = {}\n",
    "    with open(filename, 'r') as f_in:\n",
    "        # set up csv reader object\n",
    "        reader = csv.DictReader(f_in)\n",
    "        \n",
    "        # tally up ride types\n",
    "        for row in reader:\n",
    "            key = row['month']\n",
    "            months_trips_time[key]=(float(row[column_name]))\n",
    "        \n",
    "    return months_trips_time"
   ]
  },
  {
   "cell_type": "code",
   "execution_count": 27,
   "metadata": {},
   "outputs": [
    {
     "data": {
      "image/png": "[encoded data removed]",
      "text/plain": [
       "<matplotlib.figure.Figure at 0x7fd7d2fc2a58>"
      ]
     },
     "metadata": {},
     "output_type": "display_data"
    }
   ],
   "source": [
    "## Use this and additional cells to continue to explore the dataset. ##\n",
    "## Once you have performed your exploration, document your findings  ##\n",
    "## in the Markdown cell above.                                       ##\n",
    "## 1)How does ridership differ by month or season? Which month / season has the highest ridership? ##\n",
    "##   Does the ratio of Subscriber trips to Customer trips change depending on the month or season? ##\n",
    "\n",
    "import matplotlib.pyplot as plt\n",
    "import numpy as np\n",
    "%matplotlib inline \n",
    "\n",
    "# example histogram, data taken from bay area sample\n",
    "months_trips_times = {}\n",
    "city = 'Washington'\n",
    "filelink = './data/myAnalysis.csv'\n",
    "months_trips_times = collect_monthly_trip_times(filelink, 'total_ride')\n",
    "xmin = 8\n",
    "xmax = 200\n",
    "\n",
    "keys = months_trips_times.keys()\n",
    "vals = months_trips_times.values()\n",
    "plt.bar(keys, np.divide(list(vals), sum(vals)), label=\"Month-wise trip distribution\")\n",
    "#plt.ylim(0,1)\n",
    "plt.ylabel ('Percentage')\n",
    "plt.xlabel ('Diagram - 6.1')\n",
    "plt.xticks(list(keys))\n",
    "plt.legend (bbox_to_anchor=(1, 1), loc=\"upper right\", borderaxespad=0.)\n",
    "\n",
    "plt.show()\n",
    "#print(keys) \n",
    "#months = ['January', 'February', 'March', 'April', 'May', 'June', 'July', 'August', 'September', 'October', 'November', 'December']      \n",
    "#plt.hist(months_trips_times)\n",
    "#plt.title('ridership differ by month or season')\n",
    "#plt.xlabel('Duration (m)')\n",
    "#plt.show()\n",
    "\n",
    "\n"
   ]
  },
  {
   "cell_type": "code",
   "execution_count": 61,
   "metadata": {},
   "outputs": [],
   "source": [
    "def collect_userType_trip_times(filename):\n",
    "    months_trips_time = []\n",
    "    with open(filename, 'r') as f_in:\n",
    "        # set up csv reader object\n",
    "        reader = csv.DictReader(f_in)\n",
    "        subscriber_ride = 0\n",
    "        subscriber_month = ''\n",
    "        customer_ride = 0\n",
    "        customer_month = ''\n",
    "        # tally up ride types\n",
    "        for row in reader:\n",
    "            if(subscriber_ride < float(row['subscriber_ride'])):\n",
    "                subscriber_ride = float(row['subscriber_ride'])\n",
    "                subscriber_month = row['month']\n",
    "            if(customer_ride < float(row['customer_ride'])):\n",
    "                customer_ride = float(row['customer_ride'])\n",
    "                customer_month = row['month']\n",
    "        print(\"subcriber has ride \",subscriber_ride, \" \", subscriber_month)\n",
    "        print(\"customer has ride \",customer_ride, \" \", customer_month)\n",
    "        months_trips_time.append(subscriber_ride)\n",
    "        months_trips_time.append(customer_ride)\n",
    "        \n",
    "    return months_trips_time\n"
   ]
  },
  {
   "cell_type": "code",
   "execution_count": 62,
   "metadata": {},
   "outputs": [
    {
     "data": {
      "text/plain": [
       "{'April': 54432.85,\n",
       " 'August': 66506.52,\n",
       " 'December': 15423.14,\n",
       " 'February': 9315.56,\n",
       " 'January': 8255.85,\n",
       " 'July': 97186.64,\n",
       " 'June': 75213.76,\n",
       " 'March': 53165.0,\n",
       " 'May': 55318.0,\n",
       " 'November': 42789.33,\n",
       " 'October': 61962.22,\n",
       " 'September': 67804.66}"
      ]
     },
     "execution_count": 62,
     "metadata": {},
     "output_type": "execute_result"
    }
   ],
   "source": [
    "customer_months_trips"
   ]
  },
  {
   "cell_type": "code",
   "execution_count": 63,
   "metadata": {},
   "outputs": [
    {
     "data": {
      "text/html": [
       "<div>\n",
       "<style>\n",
       "    .dataframe thead tr:only-child th {\n",
       "        text-align: right;\n",
       "    }\n",
       "\n",
       "    .dataframe thead th {\n",
       "        text-align: left;\n",
       "    }\n",
       "\n",
       "    .dataframe tbody tr th {\n",
       "        vertical-align: top;\n",
       "    }\n",
       "</style>\n",
       "<table border=\"1\" class=\"dataframe\">\n",
       "  <thead>\n",
       "    <tr style=\"text-align: right;\">\n",
       "      <th></th>\n",
       "      <th>subscriber_ride</th>\n",
       "      <th>customer_ride</th>\n",
       "    </tr>\n",
       "  </thead>\n",
       "  <tbody>\n",
       "    <tr>\n",
       "      <th>January</th>\n",
       "      <td>22884.2</td>\n",
       "      <td>8255.85</td>\n",
       "    </tr>\n",
       "    <tr>\n",
       "      <th>February</th>\n",
       "      <td>27249.8</td>\n",
       "      <td>9315.56</td>\n",
       "    </tr>\n",
       "    <tr>\n",
       "      <th>March</th>\n",
       "      <td>56910.1</td>\n",
       "      <td>53165</td>\n",
       "    </tr>\n",
       "    <tr>\n",
       "      <th>April</th>\n",
       "      <td>55392.8</td>\n",
       "      <td>54432.8</td>\n",
       "    </tr>\n",
       "    <tr>\n",
       "      <th>May</th>\n",
       "      <td>60799.2</td>\n",
       "      <td>55318</td>\n",
       "    </tr>\n",
       "    <tr>\n",
       "      <th>June</th>\n",
       "      <td>78736.7</td>\n",
       "      <td>75213.8</td>\n",
       "    </tr>\n",
       "    <tr>\n",
       "      <th>July</th>\n",
       "      <td>70897</td>\n",
       "      <td>97186.6</td>\n",
       "    </tr>\n",
       "    <tr>\n",
       "      <th>August</th>\n",
       "      <td>68218.3</td>\n",
       "      <td>66506.5</td>\n",
       "    </tr>\n",
       "    <tr>\n",
       "      <th>September</th>\n",
       "      <td>63840.2</td>\n",
       "      <td>67804.7</td>\n",
       "    </tr>\n",
       "    <tr>\n",
       "      <th>October</th>\n",
       "      <td>63148.1</td>\n",
       "      <td>61962.2</td>\n",
       "    </tr>\n",
       "    <tr>\n",
       "      <th>November</th>\n",
       "      <td>47203.9</td>\n",
       "      <td>42789.3</td>\n",
       "    </tr>\n",
       "    <tr>\n",
       "      <th>December</th>\n",
       "      <td>33087.3</td>\n",
       "      <td>15423.1</td>\n",
       "    </tr>\n",
       "  </tbody>\n",
       "</table>\n",
       "</div>"
      ],
      "text/plain": [
       "          subscriber_ride customer_ride\n",
       "January           22884.2       8255.85\n",
       "February          27249.8       9315.56\n",
       "March             56910.1         53165\n",
       "April             55392.8       54432.8\n",
       "May               60799.2         55318\n",
       "June              78736.7       75213.8\n",
       "July                70897       97186.6\n",
       "August            68218.3       66506.5\n",
       "September         63840.2       67804.7\n",
       "October           63148.1       61962.2\n",
       "November          47203.9       42789.3\n",
       "December          33087.3       15423.1"
      ]
     },
     "execution_count": 63,
     "metadata": {},
     "output_type": "execute_result"
    }
   ],
   "source": [
    "plt.style.use('seaborn-deep')\n",
    "df= pds.DataFrame(index=['January', 'February', 'March', 'April', 'May', 'June', 'July', 'August', 'September', 'October', 'November', 'December'],\n",
    "                 columns=['subscriber_ride', 'customer_ride'], dtype='object')\n",
    "\n",
    "def times_demo(filename, column_name):\n",
    "    months_trips_time = {}\n",
    "    with open(filename, 'r') as f_in:\n",
    "        # set up csv reader object\n",
    "        reader = csv.DictReader(f_in)\n",
    "        # tally up ride types\n",
    "        for row in reader:\n",
    "            key = row['month']\n",
    "            months_trips_time[key]=(float(row[column_name]))\n",
    "            df.set_value([key], column_name, (float(row[column_name])))\n",
    "        \n",
    "times_demo(filelink, 'subscriber_ride')\n",
    "times_demo(filelink, 'customer_ride')\n",
    "df\n",
    "\n"
   ]
  },
  {
   "cell_type": "markdown",
   "metadata": {},
   "source": [
    "**ratio of Subscriber trips to Customer trips change depending on the month or season**"
   ]
  },
  {
   "cell_type": "code",
   "execution_count": 66,
   "metadata": {},
   "outputs": [
    {
     "data": {
      "text/plain": [
       "Text(0.5,0,'Diagram - 6.2')"
      ]
     },
     "execution_count": 66,
     "metadata": {},
     "output_type": "execute_result"
    },
    {
     "data": {
      "image/png": "[encoded data removed]",
      "text/plain": [
       "<matplotlib.figure.Figure at 0x7fd7d2fc27f0>"
      ]
     },
     "metadata": {},
     "output_type": "display_data"
    }
   ],
   "source": [
    "from functools import reduce\n",
    "ax = df.plot(kind='bar',figsize=(10,2), rot = 0)\n",
    "\n",
    "# \"Activate\" minor ticks\n",
    "ax.minorticks_on()\n",
    "\n",
    "# Get location of the center of each rectangle\n",
    "#x = range(0, 1000000)\n",
    "rects_locs = map(lambda x: x.get_x() +x.get_width()/2., ax.patches)\n",
    "# Set minor ticks there\n",
    "#ax.set_xticks(rects_locs, minor = True)\n",
    "\n",
    "\n",
    "# Labels for the rectangles\n",
    "new_ticks = reduce(lambda x, y: x + y, map(lambda x: [x] * df.shape[0], df.columns.tolist()))\n",
    "# Set the labels\n",
    "from matplotlib import ticker\n",
    "ax.xaxis.set_minor_formatter(ticker.FixedFormatter(new_ticks))  #add the custom ticks\n",
    "\n",
    "# Move the category label further from x-axis\n",
    "ax.tick_params(axis='x', which='major', pad=15)\n",
    "\n",
    "# Remove minor ticks where not necessary\n",
    "ax.tick_params(axis='x',which='both', top='off')\n",
    "ax.tick_params(axis='y',which='both', left='off', right = 'off')\n",
    "plt.xlabel ('Diagram - 6.2')"
   ]
  },
  {
   "cell_type": "markdown",
   "metadata": {},
   "source": [
    "<a id='conclusions'></a>\n",
    "## Conclusions\n",
    "\n",
    "Congratulations on completing the project! This is only a sampling of the data analysis process: from generating questions, wrangling the data, and to exploring the data. Normally, at this point in the data analysis process, you might want to draw conclusions about the data by performing a statistical test or fitting the data to a model for making predictions. There are also a lot of potential analyses that could be performed on the data which are not possible with only the data provided. For example, detailed location data has not been investigated. Where are the most commonly used docks? What are the most common routes? As another example, weather has potential to have a large impact on daily ridership. How much is ridership impacted when there is rain or snow? Are subscribers or customers affected more by changes in weather?\n",
    "\n",
    "**Question 7**: Putting the bike share data aside, think of a topic or field of interest where you would like to be able to apply the techniques of data science. What would you like to be able to learn from your chosen subject?\n",
    "\n",
    "**Answer**: Replace this text with your response!\n",
    "\n",
    "> **Tip**: If we want to share the results of our analysis with others, we aren't limited to giving them a copy of the jupyter Notebook (.ipynb) file. We can also export the Notebook output in a form that can be opened even for those without Python installed. From the **File** menu in the upper left, go to the **Download as** submenu. You can then choose a different format that can be viewed more generally, such as HTML (.html) or\n",
    "PDF (.pdf). You may need additional packages or software to perform these exports.\n",
    "\n",
    "> If you are working on this project via the Project Notebook page in the classroom, you can also submit this project directly from the workspace. **Before you do that**, you should save an HTML copy of the completed project to the workspace by running the code cell below. If it worked correctly, the output code should be a 0, and if you click on the jupyter icon in the upper left, you should see your .html document in the workspace directory. Alternatively, you can download the .html copy of your report following the steps in the previous paragraph, then _upload_ the report to the directory (by clicking the jupyter icon).\n",
    "\n",
    "> Either way, once you've gotten the .html report in your workspace, you can complete your submission by clicking on the \"Submit Project\" button to the lower-right hand side of the workspace."
   ]
  },
  {
   "cell_type": "code",
   "execution_count": 26,
   "metadata": {},
   "outputs": [
    {
     "data": {
      "text/plain": [
       "0"
      ]
     },
     "execution_count": 26,
     "metadata": {},
     "output_type": "execute_result"
    }
   ],
   "source": [
    "from subprocess import call\n",
    "call(['python', '-m', 'nbconvert', 'Bike_Share_Analysis.ipynb'])"
   ]
  }
 ],
 "metadata": {
  "anaconda-cloud": {},
  "kernelspec": {
   "display_name": "Python 3",
   "language": "python",
   "name": "python3"
  },
  "language_info": {
   "codemirror_mode": {
    "name": "ipython",
    "version": 3
   },
   "file_extension": ".py",
   "mimetype": "text/x-python",
   "name": "python",
   "nbconvert_exporter": "python",
   "pygments_lexer": "ipython3",
   "version": "3.6.6"
  }
 },
 "nbformat": 4,
 "nbformat_minor": 1
}
